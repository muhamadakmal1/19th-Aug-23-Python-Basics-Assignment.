{
 "cells": [
  {
   "cell_type": "markdown",
   "id": "5bfeef7f-562b-4e5e-bb22-330e7fe25a4a",
   "metadata": {},
   "source": [
    "Q 1. Declare two variables, x and y, and assign them integer values. Swap the values of these variables without using any temporary variable."
   ]
  },
  {
   "cell_type": "code",
   "execution_count": null,
   "id": "7082ef5c-acbd-49e4-a7bd-7c8403922c99",
   "metadata": {},
   "outputs": [
    {
     "name": "stdout",
     "output_type": "stream",
     "text": [
      "4\n",
      "2\n"
     ]
    }
   ],
   "source": [
    "#Declairing the variable\n",
    "x = 2\n",
    "y = 4\n",
    "\n",
    "#now swapping the variables values\n",
    "\n",
    "x,y= y,x\n",
    "\n",
    "print(x)\n",
    "print(y)\n"
   ]
  },
  {
   "cell_type": "markdown",
   "id": "3435733d-ac3d-4bd2-9552-b06c5cc0c7b9",
   "metadata": {},
   "source": [
    "Explaination:\n",
    "    1. You initialize two variables, x and y, with the values 2 and 4, respectively.\n",
    "    2. This [x,y = y,x] is a concise way in Python to swap the values of x and y without using a temporary variable.\n",
    "    The right side, y, x, creates a tuple (y, x), and the values are unpacked to x and y. As a result, the values of x and y are swapped.\n",
    "    3. Finally, you print the swapped values of x and y."
   ]
  },
  {
   "cell_type": "markdown",
   "id": "b298e915-2fb8-4490-bdae-aa3a7d01846a",
   "metadata": {},
   "source": [
    "Q 2. Create a program that calculates the area of a rectangle. Take the length and width as inputs from the user and store them in variables. Calculate and display the area."
   ]
  },
  {
   "cell_type": "code",
   "execution_count": null,
   "id": "cecd5d26-cc07-4c0b-822a-7a48332eb54e",
   "metadata": {},
   "outputs": [],
   "source": [
    "# Taking user input for length & width and converting it to a floating-point number\n",
    "\n",
    "length = float(input(\"Enter the length of the rectangle: \"))\n",
    "width = float(input(\"Enter the width of the rectangle: \"))\n",
    "\n",
    "#calucating the are of a rectangle\n",
    "\n",
    "area = length*width #this is formula for Calculating area of rectangle\n",
    "\n",
    "# here we print the area of rectangle\n",
    "\n",
    "print(\"area of rectangle = \", area)"
   ]
  },
  {
   "cell_type": "markdown",
   "id": "d5259fc4-05b5-4981-b035-b7c1283db013",
   "metadata": {},
   "source": [
    "Explain:\n",
    "    1. The input function is used to take user input in float.\n",
    "    2. This line calculates the area of the rectangle using the formula length * width.\n",
    "       and  the result is stored in the variable \"area\".\n",
    "    3. The print statement outputs the calculated area."
   ]
  },
  {
   "cell_type": "markdown",
   "id": "5c47b774-da96-469a-b3da-52ce9ab4d5e1",
   "metadata": {},
   "source": [
    "Q3. Write a Python program that converts temperatures from Celsius to Fahrenheit. Take the temperature in Celsius as input, store it in a variable, convert it to Fahrenheit, and display the result."
   ]
  },
  {
   "cell_type": "code",
   "execution_count": 4,
   "id": "7e772e93-df8e-4ae6-b83c-b3284983ab25",
   "metadata": {},
   "outputs": [
    {
     "name": "stdout",
     "output_type": "stream",
     "text": [
      "Enter the temperature in Celsius:  45\n"
     ]
    },
    {
     "name": "stdout",
     "output_type": "stream",
     "text": [
      "45.0 degrees Celsius is equal to 113.0 degrees Fahrenheit.\n"
     ]
    }
   ],
   "source": [
    "# Ask the user to enter the temperature in Celsius\n",
    "celsius = float(input(\"Enter the temperature in Celsius: \"))\n",
    "\n",
    "# Convert the temperature from Celsius to Fahrenheit\n",
    "fahrenheit = (celsius * 9/5) + 32\n",
    "\n",
    "#print the value of the converted temperature in Fahrenheit\n",
    "print(f\"{celsius} degrees Celsius is equal to {fahrenheit} degrees Fahrenheit.\")"
   ]
  },
  {
   "cell_type": "raw",
   "id": "11520746-d759-4b1c-802c-7641a5aa6498",
   "metadata": {},
   "source": [
    "Explaination:\n",
    "    1. The input function is used to take user input for the temperature in Celsius.\n",
    "The float() function is then used to convert the input (which is initially a string) into a floating-point number.\n",
    "\n",
    "2. The temperature in Celsius is converted to Fahrenheit using the conversion formula (Celsius * 9/5) + 32. and stored in fahrenheit\n",
    "\n",
    "3. The print statement outputs a formatted string that includes the original temperature in Celsius and its equivalent in Fahrenheit."
   ]
  },
  {
   "cell_type": "markdown",
   "id": "3c88a695-fd8b-4dab-873e-bb95169af626",
   "metadata": {},
   "source": [
    "<----------------------------------------------------------------------------------------------------->"
   ]
  },
  {
   "cell_type": "raw",
   "id": "d70f57b3-9204-4323-ac45-779e26e754df",
   "metadata": {},
   "source": [
    "                                                                             String based questions"
   ]
  },
  {
   "cell_type": "markdown",
   "id": "9ef0f6f1-497f-40ea-b0ff-eeafc86b203b",
   "metadata": {},
   "source": [
    "Q 1. Write a Python program that takes a string as input and prints the length of the string."
   ]
  },
  {
   "cell_type": "code",
   "execution_count": 5,
   "id": "598c793a-9a17-4014-8542-d585bcf8d32d",
   "metadata": {},
   "outputs": [
    {
     "name": "stdout",
     "output_type": "stream",
     "text": [
      "Enter a string:  DAnish\n"
     ]
    },
    {
     "name": "stdout",
     "output_type": "stream",
     "text": [
      "The length of the input string is: 6\n"
     ]
    }
   ],
   "source": [
    "# get input from user\n",
    "\n",
    "userstring = input(\"Enter a string: \")\n",
    "\n",
    "# Calculate the length of the input string using the built-in len() function\n",
    "stringlength = len(userstring)\n",
    "\n",
    "# Print the length of the string\n",
    "print(\"The length of the input string is:\", stringlength)"
   ]
  },
  {
   "cell_type": "raw",
   "id": "9ea1165d-aa08-4abf-b1af-f2e1f3392050",
   "metadata": {},
   "source": [
    "Explaination:\n",
    "\n",
    "    1. The input function is used to get a string input from the user.\n",
    "    2. The len() function is applied to the userstring variable, which returns the length.\n",
    "    3. The print statement outputs the result, indicating the length of the entered string."
   ]
  },
  {
   "cell_type": "markdown",
   "id": "351211ea-99c6-486c-b843-b42f83f1956d",
   "metadata": {},
   "source": [
    "Q 2. Create a program that takes a sentence from the user and counts the number of vowels (a, e, i, o, u) in the string."
   ]
  },
  {
   "cell_type": "code",
   "execution_count": 8,
   "id": "b7cecfe8-15e2-48c4-b8b0-326d2ddaf2c2",
   "metadata": {},
   "outputs": [
    {
     "name": "stdout",
     "output_type": "stream",
     "text": [
      "Please enter a sentence:  the lion is a king of jungle\n"
     ]
    },
    {
     "name": "stdout",
     "output_type": "stream",
     "text": [
      "The number of vowels in the sentence is: 9\n"
     ]
    }
   ],
   "source": [
    "# Ask the user to enter a sentence\n",
    "sentence = input(\"Please enter a sentence: \")\n",
    "\n",
    "# Initialize a count to keep track of the number of vowels\n",
    "vowel_count = 0\n",
    "\n",
    "# Define the vowels as a set of characters\n",
    "vowels = set(\"aeiouAEIOU\")\n",
    "\n",
    "# Go through each letter in the sentence\n",
    "for letter in sentence:\n",
    "    # Check if the letter is in the set of vowels\n",
    "    if letter in vowels:\n",
    "        vowel_count += 1\n",
    "\n",
    "# print the result\n",
    "print(\"The number of vowels in the sentence is:\", vowel_count)\n"
   ]
  },
  {
   "cell_type": "raw",
   "id": "d60be2b5-b509-4c60-8eb1-e98a16b17583",
   "metadata": {},
   "source": [
    "Explaination:\n",
    "\n",
    "    1. The input function is used to take user input for a sentence. and stored into sentence.\n",
    "    \n",
    "    2. vowel_count is initialized to zero. This variable will be used to keep track of the number of vowels in the sentence.\n",
    "    \n",
    "    3. A set named vowels is created, containing the characters 'a', 'e', 'i', 'o', 'u', 'A', 'E', 'I', 'O', and 'U'. This set represents the vowels.\n",
    "    4. The for loop iterates through each character in the input sentence.\n",
    "    \n",
    "For each character, it checks if the character is in the set of vowels (if letter in vowels).\n",
    "If the character is a vowel, it increments the vowel_count.\n",
    "\n",
    "5. The print statement outputs the result, indicating the number of vowels in the entered sentence."
   ]
  },
  {
   "cell_type": "markdown",
   "id": "54276597-358c-4de3-9fb4-0b7b1367e157",
   "metadata": {},
   "source": [
    "Q 3. Given a string, reverse the order of characters using string slicing and print the reversed string."
   ]
  },
  {
   "cell_type": "code",
   "execution_count": 9,
   "id": "6b6edc58-2b1d-4092-a965-4b4cb7107cd0",
   "metadata": {},
   "outputs": [
    {
     "name": "stdout",
     "output_type": "stream",
     "text": [
      "Enter a string =  Aviral\n"
     ]
    },
    {
     "name": "stdout",
     "output_type": "stream",
     "text": [
      "Reversed string =  larivA\n"
     ]
    }
   ],
   "source": [
    "# taking input from user\n",
    "string = input(\"Enter a string = \")\n",
    "\n",
    "# string slicing to reverse the string\n",
    "reversed_String = string[::-1]\n",
    "\n",
    "# print reversed string\n",
    "print(\"Reversed string = \", reversed_String)\n"
   ]
  },
  {
   "cell_type": "markdown",
   "id": "07a7faec-8e75-41bf-8e06-c1d2589daa77",
   "metadata": {},
   "source": [
    "Explaination:\n",
    "1. taking input from from user in string.\n",
    "2. Now we reverse the string using slicing method.\n",
    "3. then printing the reversred string,\n"
   ]
  },
  {
   "cell_type": "markdown",
   "id": "b462ba9b-8bb6-4183-a6f3-3eb7552f21ae",
   "metadata": {},
   "source": [
    "Q4. Write a program that takes a string as input and checks if it is a palindrome (reads the same forwards and backwards)."
   ]
  },
  {
   "cell_type": "code",
   "execution_count": 10,
   "id": "614f4aef-ddfd-4b5d-a9e9-1b5c84adcb65",
   "metadata": {},
   "outputs": [
    {
     "name": "stdout",
     "output_type": "stream",
     "text": [
      "Enter a string:  Lion\n"
     ]
    },
    {
     "name": "stdout",
     "output_type": "stream",
     "text": [
      "The input string is not a palindrome.\n"
     ]
    }
   ],
   "source": [
    "# taking input from the user\n",
    "string = input(\"Enter a string: \")\n",
    "\n",
    "# Remove spaces and convert the input string to lowercase\n",
    "cleaned_string = string.replace(\" \", \"\").lower()\n",
    "\n",
    "# Reverse the cleaned string using slicing\n",
    "reversed_string = cleaned_string[::-1]\n",
    "\n",
    "# Compare the cleaned string with its reverse to check for palindrome\n",
    "if (cleaned_string == reversed_string):\n",
    "    print(\"The input string is a palindrome.\")\n",
    "else:\n",
    "    print(\"The input string is not a palindrome.\")"
   ]
  },
  {
   "cell_type": "markdown",
   "id": "affd43d4-5837-478a-a3ba-a8cc5da4fda4",
   "metadata": {},
   "source": [
    "Explaination:\n",
    "1. taking input from user using 'input' .\n",
    "\n",
    "2. The input string is cleaned by removing spaces and converting it to lowercase. This ensures that the program performs a case-insensitive and space-insensitive comparison.\n",
    "\n",
    "3. The cleaned string is reversed using string slicing, and the result is stored in the reversed_string variable.\n",
    "\n",
    "4. The program then checks if the cleaned string and its reverse are the same. If they are, it prints \"The input string is a palindrome.\" Otherwise, it prints \"The input string is not a palindrome.\""
   ]
  },
  {
   "cell_type": "markdown",
   "id": "3b03ce27-2ea7-4899-ad56-0ecc2c858cb3",
   "metadata": {},
   "source": [
    "Q 5. Create a program that takes a string as input and removes all the spaces from it. Print the modified string without spaces."
   ]
  },
  {
   "cell_type": "code",
   "execution_count": 12,
   "id": "cc062a13-da40-4654-927c-c286cec1488a",
   "metadata": {},
   "outputs": [
    {
     "name": "stdout",
     "output_type": "stream",
     "text": [
      "Enter a string:  Danish\n"
     ]
    },
    {
     "name": "stdout",
     "output_type": "stream",
     "text": [
      "Modified string without spaces: Danish\n"
     ]
    }
   ],
   "source": [
    "# taking a string from the user\n",
    "userstring = input(\"Enter a string: \")\n",
    "\n",
    "# Remove spaces from the string\n",
    "string_without_spaces = userstring.replace(\" \", \"\")\n",
    "\n",
    "# Print the modified string without spaces\n",
    "print(\"Modified string without spaces:\", string_without_spaces)"
   ]
  },
  {
   "cell_type": "markdown",
   "id": "82e35aba-33a7-4335-a1f8-f1ae361cde51",
   "metadata": {},
   "source": [
    "Explaination:\n",
    "1. taking input from user using 'input' .\n",
    "\n",
    "2. The 'replace' method is used to remove all spaces in the input string by replacing them with an empty string \"\". This results in a string without spaces.\n",
    "\n",
    "3. The modified string without spaces is stored in the string_without_spaces variable.\n",
    "\n",
    "4. Finally, the program prints the modified string without spaces using print."
   ]
  }
 ],
 "metadata": {
  "kernelspec": {
   "display_name": "Python 3 (ipykernel)",
   "language": "python",
   "name": "python3"
  },
  "language_info": {
   "codemirror_mode": {
    "name": "ipython",
    "version": 3
   },
   "file_extension": ".py",
   "mimetype": "text/x-python",
   "name": "python",
   "nbconvert_exporter": "python",
   "pygments_lexer": "ipython3",
   "version": "3.11.4"
  }
 },
 "nbformat": 4,
 "nbformat_minor": 5
}
